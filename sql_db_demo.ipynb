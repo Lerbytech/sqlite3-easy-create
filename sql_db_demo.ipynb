{
 "cells": [
  {
   "cell_type": "code",
   "execution_count": 1,
   "metadata": {},
   "outputs": [],
   "source": [
    "import sqlite3\n",
    "import yaml"
   ]
  },
  {
   "cell_type": "markdown",
   "metadata": {},
   "source": [
    "# Wrappers"
   ]
  },
  {
   "cell_type": "code",
   "execution_count": 2,
   "metadata": {},
   "outputs": [],
   "source": [
    "def build_create_query(table_name, table_scheme_dict):\n",
    "    if len(table_scheme_dict[\"primary_keys\"]) > 0:\n",
    "        a = \", \".join([f\"{k} {v}\" for k,v in table_scheme_dict[\"columns\"].items()])\n",
    "        b = \", \".join([f\"{v}\" for v in table_scheme_dict[\"primary_keys\"]])\n",
    "\n",
    "        res = f\"create table if not exists {table_name} ({a}, PRIMARY KEY ({b}))\"\n",
    "    else:\n",
    "        a = \", \".join([f\"{k} {v}\" for k,v in table_scheme_dict[\"columns\"].items()])\n",
    "        \n",
    "        res = f\"create table if not exists {table_name} ({a})\"\n",
    "    return res\n",
    "\n",
    "def build_insert_query(table_name, db_schema_dict):\n",
    "    query_str = f\"INSERT OR IGNORE INTO {table_name}\" \n",
    "    query_str += \"(\" + \", \".join([k for k in db_schema_dict[table_name][\"columns\"]]) + \")\"\n",
    "    query_str += \" values \"\n",
    "    query_str += \"(\" + \", \".join([\"?\" for i in db_schema_dict[table_name][\"columns\"]]) + \")\"\n",
    "    return query_str"
   ]
  },
  {
   "cell_type": "code",
   "execution_count": 3,
   "metadata": {},
   "outputs": [],
   "source": [
    "with open(\"example_db.yml\", \"r\") as fp:\n",
    "    new_db_schema = yaml.safe_load(fp)"
   ]
  },
  {
   "cell_type": "code",
   "execution_count": 4,
   "metadata": {},
   "outputs": [
    {
     "data": {
      "text/plain": [
       "{'UsersTable': {'columns': {'ID': 'UInt64',\n",
       "   'UserGroup': 'UInt2',\n",
       "   'Name': 'String'},\n",
       "  'primary_keys': ['UserGroup']},\n",
       " 'MessagesTable': {'columns': {'ID': 'UInt64',\n",
       "   'UserID': 'UInt64',\n",
       "   'Caption': 'String',\n",
       "   'CreatedAt': 'DateTime',\n",
       "   'UpdatedAt': 'DateTime'},\n",
       "  'primary_keys': []}}"
      ]
     },
     "execution_count": 4,
     "metadata": {},
     "output_type": "execute_result"
    }
   ],
   "source": [
    "new_db_schema"
   ]
  },
  {
   "cell_type": "markdown",
   "metadata": {},
   "source": [
    "# Usage"
   ]
  },
  {
   "cell_type": "code",
   "execution_count": 5,
   "metadata": {},
   "outputs": [],
   "source": [
    "conn = sqlite3.connect(\"demo.db\")\n",
    "cur = conn.cursor()"
   ]
  },
  {
   "cell_type": "markdown",
   "metadata": {},
   "source": [
    "## create db from empty state"
   ]
  },
  {
   "cell_type": "code",
   "execution_count": 6,
   "metadata": {},
   "outputs": [],
   "source": [
    "for sch in new_db_schema:\n",
    "    query = build_create_query(sch, new_db_schema[sch])\n",
    "    cur.execute(query)"
   ]
  },
  {
   "cell_type": "markdown",
   "metadata": {},
   "source": [
    "## fill db with stuff"
   ]
  },
  {
   "cell_type": "code",
   "execution_count": 11,
   "metadata": {},
   "outputs": [],
   "source": [
    "temp_data = list()\n",
    "temp_data.append([0, 1, \"John Doe\"])"
   ]
  },
  {
   "cell_type": "code",
   "execution_count": 12,
   "metadata": {},
   "outputs": [],
   "source": [
    "cur.executemany(build_insert_query(\"UsersTable\", new_db_schema), temp_data)\n",
    "conn.commit()"
   ]
  },
  {
   "cell_type": "code",
   "execution_count": 13,
   "metadata": {},
   "outputs": [
    {
     "data": {
      "text/plain": [
       "[(0, 1, 'John Doe')]"
      ]
     },
     "execution_count": 13,
     "metadata": {},
     "output_type": "execute_result"
    }
   ],
   "source": [
    "cur.execute(\"select * from UsersTable\").fetchall()"
   ]
  }
 ],
 "metadata": {
  "kernelspec": {
   "display_name": "Python 3",
   "language": "python",
   "name": "python3"
  },
  "language_info": {
   "codemirror_mode": {
    "name": "ipython",
    "version": 3
   },
   "file_extension": ".py",
   "mimetype": "text/x-python",
   "name": "python",
   "nbconvert_exporter": "python",
   "pygments_lexer": "ipython3",
   "version": "3.7.6"
  }
 },
 "nbformat": 4,
 "nbformat_minor": 4
}
